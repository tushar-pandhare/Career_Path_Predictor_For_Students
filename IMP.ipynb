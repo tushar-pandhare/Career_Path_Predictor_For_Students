{
 "cells": [
  {
   "cell_type": "code",
   "execution_count": 1,
   "id": "de0e2e47-9f78-44aa-b6a3-df9c9076bf71",
   "metadata": {
    "colab": {
     "base_uri": "https://localhost:8080/"
    },
    "id": "ef310aa6-febc-4397-94a4-25a49d6ff10a",
    "outputId": "ac279ca9-190d-43a4-e9c4-b2be3c6505f5"
   },
   "outputs": [],
   "source": [
    "import pandas as pd\n",
    "from sklearn.model_selection import train_test_split\n",
    "from sklearn.tree import DecisionTreeClassifier\n",
    "from sklearn.ensemble import RandomForestClassifier\n",
    "from sklearn.svm import SVC\n",
    "from sklearn.preprocessing import LabelEncoder\n",
    "from sklearn.metrics import accuracy_score\n",
    "import pickle\n",
    "import numpy as np\n",
    "import matplotlib.pyplot as plt"
   ]
  },
  {
   "cell_type": "code",
   "execution_count": 2,
   "id": "dc74d9f0-a409-40bb-a41f-458761baf1e0",
   "metadata": {
    "colab": {
     "base_uri": "https://localhost:8080/"
    },
    "id": "ef310aa6-febc-4397-94a4-25a49d6ff10a",
    "outputId": "ac279ca9-190d-43a4-e9c4-b2be3c6505f5"
   },
   "outputs": [
    {
     "name": "stdout",
     "output_type": "stream",
     "text": [
      "(4925, 13)\n"
     ]
    }
   ],
   "source": [
    "# Load the dataset\n",
    "df = pd.read_csv(\"Student Data1.csv\")\n",
    "print(df.shape)"
   ]
  },
  {
   "cell_type": "code",
   "execution_count": 3,
   "id": "3b18debc-57e7-4a63-ba2e-ba63d50de021",
   "metadata": {
    "colab": {
     "base_uri": "https://localhost:8080/"
    },
    "id": "ef310aa6-febc-4397-94a4-25a49d6ff10a",
    "outputId": "ac279ca9-190d-43a4-e9c4-b2be3c6505f5"
   },
   "outputs": [],
   "source": [
    "# Remove duplicate rows\n",
    "df = df.drop_duplicates()"
   ]
  },
  {
   "cell_type": "code",
   "execution_count": 4,
   "id": "af91e953-b41a-4691-9f78-3c42eebf839c",
   "metadata": {
    "colab": {
     "base_uri": "https://localhost:8080/"
    },
    "id": "ef310aa6-febc-4397-94a4-25a49d6ff10a",
    "outputId": "ac279ca9-190d-43a4-e9c4-b2be3c6505f5"
   },
   "outputs": [],
   "source": [
    "                                                                                                           # Separate features (X) and target variable (y)\n",
    "X = df.drop(columns=['Suggested Job Role']) \n",
    "y = df['Suggested Job Role']"
   ]
  },
  {
   "cell_type": "code",
   "execution_count": 5,
   "id": "7a7512d0-89c3-4c46-8d8d-5b97e9fa8e92",
   "metadata": {
    "colab": {
     "base_uri": "https://localhost:8080/"
    },
    "id": "ef310aa6-febc-4397-94a4-25a49d6ff10a",
    "outputId": "ac279ca9-190d-43a4-e9c4-b2be3c6505f5"
   },
   "outputs": [],
   "source": [
    "# Perform label encoding for categorical variables with string values\n",
    "label_encoder = LabelEncoder()\n",
    "for col in X.select_dtypes(include='object').columns:\n",
    "    X[col] = label_encoder.fit_transform(X[col])"
   ]
  },
  {
   "cell_type": "code",
   "execution_count": 6,
   "id": "b77958b7-5cf3-44c6-afb8-e1922c1dc6bc",
   "metadata": {
    "colab": {
     "base_uri": "https://localhost:8080/"
    },
    "id": "ef310aa6-febc-4397-94a4-25a49d6ff10a",
    "outputId": "ac279ca9-190d-43a4-e9c4-b2be3c6505f5"
   },
   "outputs": [],
   "source": [
    "# Split data into training and testing sets\n",
    "X_train, X_test, y_train, y_test = train_test_split(X, y, test_size=0.2, random_state=42)"
   ]
  },
  {
   "cell_type": "code",
   "execution_count": 7,
   "id": "b843d02b-25cc-41fe-81d0-8ecaaf5fca2c",
   "metadata": {},
   "outputs": [
    {
     "name": "stdout",
     "output_type": "stream",
     "text": [
      "      Acedamic percentage in 10th  percentage in 12th  \\\n",
      "1103                    75.000000           77.000000   \n",
      "1844                    74.631604           75.746800   \n",
      "3632                    68.405219           81.777848   \n",
      "378                     82.000000           65.000000   \n",
      "495                     80.000000           65.000000   \n",
      "...                           ...                 ...   \n",
      "4426                    65.640259           84.456065   \n",
      "466                     68.000000           63.000000   \n",
      "3092                    70.285671           79.956391   \n",
      "3772                    67.917695           82.250078   \n",
      "860                     82.000000           88.000000   \n",
      "\n",
      "      Logical quotient rating  hackathons  coding skills rating  \\\n",
      "1103                        9           4                     5   \n",
      "1844                        2           1                     3   \n",
      "3632                        5           5                     9   \n",
      "378                         5           2                     3   \n",
      "495                         5           2                     3   \n",
      "...                       ...         ...                   ...   \n",
      "4426                        2           2                     8   \n",
      "466                         3           0                     8   \n",
      "3092                        8           6                     9   \n",
      "3772                        5           6                     5   \n",
      "860                         3           5                     4   \n",
      "\n",
      "      public speaking points  self-learning capability?  Extra-courses did  \\\n",
      "1103                       9                          1                  1   \n",
      "1844                       2                          1                  1   \n",
      "3632                       8                          0                  1   \n",
      "378                        8                          0                  1   \n",
      "495                        7                          1                  1   \n",
      "...                      ...                        ...                ...   \n",
      "4426                       3                          0                  1   \n",
      "466                        6                          0                  0   \n",
      "3092                       5                          1                  1   \n",
      "3772                       9                          0                  1   \n",
      "860                        1                          1                  1   \n",
      "\n",
      "      certifications  workshops  Interested subjects  interested career area  \n",
      "1103               4          2                    3                       0  \n",
      "1844               7          6                    8                       5  \n",
      "3632               2          4                    6                       1  \n",
      "378                1          1                    5                       5  \n",
      "495                7          6                    6                       2  \n",
      "...              ...        ...                  ...                     ...  \n",
      "4426               6          5                    5                       0  \n",
      "466                1          7                    9                       5  \n",
      "3092               8          1                    1                       3  \n",
      "3772               6          4                    2                       3  \n",
      "860                5          6                    4                       3  \n",
      "\n",
      "[3940 rows x 12 columns]\n",
      "      Acedamic percentage in 10th  percentage in 12th  \\\n",
      "1665                    75.254939           75.143021   \n",
      "3591                    68.547994           81.639552   \n",
      "2725                    71.563682           78.718474   \n",
      "2380                    72.765081           77.554765   \n",
      "676                     75.000000           70.000000   \n",
      "...                           ...                 ...   \n",
      "4087                    66.820765           83.312595   \n",
      "1480                    75.899168           74.519003   \n",
      "3589                    68.554959           81.632806   \n",
      "527                     85.000000           62.000000   \n",
      "2024                    74.004787           76.353952   \n",
      "\n",
      "      Logical quotient rating  hackathons  coding skills rating  \\\n",
      "1665                        7           5                     1   \n",
      "3591                        5           4                     2   \n",
      "2725                        9           5                     7   \n",
      "2380                        6           4                     5   \n",
      "676                         2           2                     1   \n",
      "...                       ...         ...                   ...   \n",
      "4087                        7           0                     3   \n",
      "1480                        9           5                     3   \n",
      "3589                        3           5                     4   \n",
      "527                         5           2                     4   \n",
      "2024                        2           5                     3   \n",
      "\n",
      "      public speaking points  self-learning capability?  Extra-courses did  \\\n",
      "1665                       9                          1                  1   \n",
      "3591                       8                          1                  0   \n",
      "2725                       4                          0                  0   \n",
      "2380                       3                          1                  1   \n",
      "676                        8                          0                  0   \n",
      "...                      ...                        ...                ...   \n",
      "4087                       4                          1                  0   \n",
      "1480                       4                          0                  1   \n",
      "3589                       8                          1                  0   \n",
      "527                        2                          1                  1   \n",
      "2024                       1                          0                  0   \n",
      "\n",
      "      certifications  workshops  Interested subjects  interested career area  \n",
      "1665               7          6                    7                       2  \n",
      "3591               0          0                    0                       0  \n",
      "2725               6          7                    4                       1  \n",
      "2380               6          0                    3                       4  \n",
      "676                6          1                    1                       3  \n",
      "...              ...        ...                  ...                     ...  \n",
      "4087               5          0                    1                       3  \n",
      "1480               6          4                    8                       3  \n",
      "3589               8          0                    5                       5  \n",
      "527                7          2                    8                       5  \n",
      "2024               5          5                    7                       4  \n",
      "\n",
      "[985 rows x 12 columns]\n",
      "1103                           Database Developer\n",
      "1844                Mobile Applications Developer\n",
      "3632                            Software Engineer\n",
      "378                        Applications Developer\n",
      "495                       CRM Technical Developer\n",
      "                          ...                    \n",
      "4426               Systems Security Administrator\n",
      "466                        Applications Developer\n",
      "3092                           Software Developer\n",
      "3772    Software Quality Assurance (QA) / Testing\n",
      "860                       CRM Technical Developer\n",
      "Name: Suggested Job Role, Length: 3940, dtype: object\n",
      "1665                Mobile Applications Developer\n",
      "3591                            Software Engineer\n",
      "2725                           Software Developer\n",
      "2380                    Network Security Engineer\n",
      "676                       CRM Technical Developer\n",
      "                          ...                    \n",
      "4087    Software Quality Assurance (QA) / Testing\n",
      "1480                Mobile Applications Developer\n",
      "3589                            Software Engineer\n",
      "527                       CRM Technical Developer\n",
      "2024                    Network Security Engineer\n",
      "Name: Suggested Job Role, Length: 985, dtype: object\n"
     ]
    }
   ],
   "source": [
    "print(X_train)\n",
    "print(X_test)\n",
    "\n",
    "print(y_train)\n",
    "print(y_test)"
   ]
  },
  {
   "cell_type": "code",
   "execution_count": 8,
   "id": "4475c97f-22ec-45dd-b5de-ae600ef3f8c4",
   "metadata": {
    "colab": {
     "base_uri": "https://localhost:8080/"
    },
    "id": "ef310aa6-febc-4397-94a4-25a49d6ff10a",
    "outputId": "ac279ca9-190d-43a4-e9c4-b2be3c6505f5"
   },
   "outputs": [
    {
     "name": "stdout",
     "output_type": "stream",
     "text": [
      "Decision Tree Accuracy: 80.0\n"
     ]
    }
   ],
   "source": [
    "# Train Decision Tree Classifier\n",
    "dtree = DecisionTreeClassifier()\n",
    "dtree.fit(X_train, y_train)\n",
    "dtree_predictions = dtree.predict(X_test)\n",
    "dtree_accuracy = accuracy_score(y_test, dtree_predictions)\n",
    "print(\"Decision Tree Accuracy:\", dtree_accuracy*100)"
   ]
  },
  {
   "cell_type": "code",
   "execution_count": 9,
   "id": "c16bc018-7191-4f10-9c19-2b29f1adec1b",
   "metadata": {
    "colab": {
     "base_uri": "https://localhost:8080/"
    },
    "id": "ef310aa6-febc-4397-94a4-25a49d6ff10a",
    "outputId": "ac279ca9-190d-43a4-e9c4-b2be3c6505f5"
   },
   "outputs": [
    {
     "name": "stdout",
     "output_type": "stream",
     "text": [
      "Random Forest Accuracy: 80.81218274111676\n",
      "SVM Accuracy: 54.82233502538071\n"
     ]
    }
   ],
   "source": [
    "# Train Random Forest Classifier\n",
    "rf = RandomForestClassifier()\n",
    "rf.fit(X_train, y_train)\n",
    "rf_predictions = rf.predict(X_test)\n",
    "rf_accuracy = accuracy_score(y_test, rf_predictions)\n",
    "print(\"Random Forest Accuracy:\", rf_accuracy*100)\n",
    "\n",
    "# Train SVM\n",
    "svm = SVC()\n",
    "svm.fit(X_train, y_train)\n",
    "svm_predictions = svm.predict(X_test)\n",
    "svm_accuracy = accuracy_score(y_test, svm_predictions)\n",
    "print(\"SVM Accuracy:\", svm_accuracy*100)\n",
    "\n",
    "# Save the models to disk\n",
    "pickle.dump(dtree, open('DecisionTreeModel1.pkl', 'wb'))\n",
    "pickle.dump(rf, open('RandomForestClassifier1.pkl', 'wb'))\n",
    "pickle.dump(svm, open('SupportVectorMachine1.pkl', 'wb'))"
   ]
  },
  {
   "cell_type": "code",
   "execution_count": 10,
   "id": "7e83f3ad-f4e3-432a-b6b7-443af8dbdfb3",
   "metadata": {},
   "outputs": [
    {
     "data": {
      "image/png": "[encoded data removed]",
      "text/plain": [
       "<Figure size 800x600 with 1 Axes>"
      ]
     },
     "metadata": {},
     "output_type": "display_data"
    }
   ],
   "source": [
    "# Create a bar chart to visualize model accuracies\n",
    "model_names = ['Decision Tree', 'Random Forest', 'SVM']\n",
    "accuracies = [dtree_accuracy, rf_accuracy, svm_accuracy]\n",
    "\n",
    "plt.figure(figsize=(8, 6))\n",
    "plt.bar(model_names, accuracies, color=['blue', 'green', 'orange'])\n",
    "plt.xlabel('Machine Learning Model')\n",
    "plt.ylabel('Accuracy (%)')\n",
    "plt.title('Comparison of Model Accuracies')\n",
    "plt.grid(axis='y')\n",
    "plt.xticks(rotation=45)  # Rotate x-axis labels for better readability\n",
    "plt.tight_layout()\n",
    "plt.show()"
   ]
  },
  {
   "cell_type": "code",
   "execution_count": 11,
   "id": "8307e084-abb3-4cb2-afbc-1057e5523660",
   "metadata": {
    "colab": {
     "base_uri": "https://localhost:8080/"
    },
    "id": "8307e084-abb3-4cb2-afbc-1057e5523660",
    "outputId": "ed21868f-2bd4-44ef-97d4-bbbb0776bb39"
   },
   "outputs": [
    {
     "data": {
      "text/plain": [
       "Acedamic percentage in 10th    float64\n",
       "percentage in 12th             float64\n",
       "Logical quotient rating          int64\n",
       "hackathons                       int64\n",
       "coding skills rating             int64\n",
       "public speaking points           int64\n",
       "self-learning capability?        int32\n",
       "Extra-courses did                int32\n",
       "certifications                   int32\n",
       "workshops                        int32\n",
       "Interested subjects              int32\n",
       "interested career area           int32\n",
       "dtype: object"
      ]
     },
     "execution_count": 11,
     "metadata": {},
     "output_type": "execute_result"
    }
   ],
   "source": [
    "X_test.dtypes"
   ]
  },
  {
   "cell_type": "code",
   "execution_count": 14,
   "id": "98d16e24-1d92-496e-9326-57a2bf95c9ab",
   "metadata": {
    "id": "98d16e24-1d92-496e-9326-57a2bf95c9ab"
   },
   "outputs": [],
   "source": [
    "# Test cases with single values for each column\n",
    "test_data_1 = {\n",
    "    'Acedamic percentage in 10th': [80],\n",
    "    'percentage in 12th': [85],\n",
    "    'Logical quotient rating': [7.0],\n",
    "    'hackathons': [3],\n",
    "    'coding skills rating': [8],\n",
    "    'public speaking points': [6],\n",
    "    'self-learning capability?': [0],\n",
    "    'Extra-courses did': [5],\n",
    "    'certifications': [2],\n",
    "    'workshops': [6],\n",
    "    'Interested subjects': [8],\n",
    "    'interested career area': [6]\n",
    "}\n",
    "\n",
    "test_data_2 = {\n",
    "    'Acedamic percentage in 10th': [75],\n",
    "    'percentage in 12th': [90],\n",
    "    'Logical quotient rating': [6.5],\n",
    "    'hackathons': [1],\n",
    "    'coding skills rating': [7],\n",
    "    'public speaking points': [4],\n",
    "    'self-learning capability?': [1],\n",
    "    'Extra-courses did': [3],\n",
    "    'certifications': [1],\n",
    "    'workshops': [8],\n",
    "    'Interested subjects': [2],\n",
    "    'interested career area': [4]\n",
    "}\n",
    "\n",
    "test_data_3 = {\n",
    "    'Acedamic percentage in 10th': [92],\n",
    "    'percentage in 12th': [88],\n",
    "    'Logical quotient rating': [8.5],\n",
    "    'hackathons': [5],\n",
    "    'coding skills rating': [9],\n",
    "    'public speaking points': [7],\n",
    "    'self-learning capability?': [0],\n",
    "    'Extra-courses did': [7],\n",
    "    'certifications': [3],\n",
    "    'workshops': [2],\n",
    "    'Interested subjects': [6],\n",
    "    'interested career area': [9]\n",
    "}\n",
    "\n",
    "test_data_4 = {\n",
    "    'Acedamic percentage in 10th': [82],\n",
    "    'percentage in 12th': [79],\n",
    "    'Logical quotient rating': [7.2],\n",
    "    'hackathons': [2],\n",
    "    'coding skills rating': [7.5],\n",
    "    'public speaking points': [5],\n",
    "    'self-learning capability?': [1],\n",
    "    'Extra-courses did': [4],\n",
    "    'certifications': [1],\n",
    "    'workshops': [3],\n",
    "    'Interested subjects': [7],\n",
    "    'interested career area': [5]\n",
    "}\n",
    "\n",
    "test_data_5 = {\n",
    "    'Acedamic percentage in 10th': [88],\n",
    "    'percentage in 12th': [84],\n",
    "    'Logical quotient rating': [7.8],\n",
    "    'hackathons': [4],\n",
    "    'coding skills rating': [8.5],\n",
    "    'public speaking points': [6],\n",
    "    'self-learning capability?': [1],\n",
    "    'Extra-courses did': [6],\n",
    "    'certifications': [2],\n",
    "    'workshops': [1],\n",
    "    'Interested subjects': [4],\n",
    "    'interested career area': [2]\n",
    "}\n",
    "\n",
    "test_data_6 = {\n",
    "    'Acedamic percentage in 10th': [79],\n",
    "    'percentage in 12th': [83],\n",
    "    'Logical quotient rating': [6.8],\n",
    "    'hackathons': [3],\n",
    "    'coding skills rating': [8],\n",
    "    'public speaking points': [7],\n",
    "    'self-learning capability?': [0],\n",
    "    'Extra-courses did': [2],\n",
    "    'certifications': [1],\n",
    "    'workshops': [5],\n",
    "    'Interested subjects': [9],\n",
    "    'interested career area': [7]\n",
    "}\n",
    "\n",
    "test_data_7 = {\n",
    "    'Acedamic percentage in 10th': [85],\n",
    "    'percentage in 12th': [91],\n",
    "    'Logical quotient rating': [7.5],\n",
    "    'hackathons': [4],\n",
    "    'coding skills rating': [8.2],\n",
    "    'public speaking points': [6],\n",
    "    'self-learning capability?': [1],\n",
    "    'Extra-courses did': [6],\n",
    "    'certifications': [2],\n",
    "    'workshops': [3],\n",
    "    'Interested subjects': [5],\n",
    "    'interested career area': [8]\n",
    "}\n",
    "\n",
    "test_data_8 = {\n",
    "    'Acedamic percentage in 10th': [81],\n",
    "    'percentage in 12th': [87],\n",
    "    'Logical quotient rating': [7.3],\n",
    "    'hackathons': [2],\n",
    "    'coding skills rating': [7.8],\n",
    "    'public speaking points': [5],\n",
    "    'self-learning capability?': [0],\n",
    "    'Extra-courses did': [3],\n",
    "    'certifications': [1],\n",
    "    'workshops': [7],\n",
    "    'Interested subjects': [3],\n",
    "    'interested career area': [1]\n",
    "}\n",
    "\n",
    "test_data_9 = {\n",
    "    'Acedamic percentage in 10th': [86],\n",
    "    'percentage in 12th': [90],\n",
    "    'Logical quotient rating': [7.7],\n",
    "    'hackathons': [3],\n",
    "    'coding skills rating': [8.4],\n",
    "    'public speaking points': [6],\n",
    "    'self-learning capability?': [1],\n",
    "    'Extra-courses did': [4],\n",
    "    'certifications': [2],\n",
    "    'workshops': [8],\n",
    "    'Interested subjects': [1],\n",
    "    'interested career area': [3]\n",
    "}\n",
    "\n",
    "# Convert test data into DataFrames\n",
    "test_df_1 = pd.DataFrame(test_data_1)\n",
    "test_df_2 = pd.DataFrame(test_data_2)\n",
    "test_df_3 = pd.DataFrame(test_data_3)\n",
    "test_df_4 = pd.DataFrame(test_data_4)\n",
    "test_df_5 = pd.DataFrame(test_data_5)\n",
    "test_df_6 = pd.DataFrame(test_data_6)\n",
    "test_df_7 = pd.DataFrame(test_data_7)\n",
    "test_df_8 = pd.DataFrame(test_data_8)\n",
    "test_df_9 = pd.DataFrame(test_data_9)\n",
    "\n"
   ]
  },
  {
   "cell_type": "code",
   "execution_count": 15,
   "id": "d0175160-2f0c-4eed-9641-23881eabbecf",
   "metadata": {
    "colab": {
     "base_uri": "https://localhost:8080/"
    },
    "id": "d0175160-2f0c-4eed-9641-23881eabbecf",
    "outputId": "ebcf7860-ea8a-4e67-d9ae-8269a74dfd9d"
   },
   "outputs": [
    {
     "name": "stdout",
     "output_type": "stream",
     "text": [
      "Predictions for Test Case 1:\n",
      "SVM: ['Network Security Engineer']\n",
      "Random Forest: ['Database Developer']\n",
      "Decision Tree: ['CRM Technical Developer']\n",
      "\n",
      "Predictions for Test Case 2:\n",
      "SVM: ['Software Quality Assurance (QA) / Testing']\n",
      "Random Forest: ['Applications Developer']\n",
      "Decision Tree: ['CRM Technical Developer']\n",
      "\n",
      "Predictions for Test Case 3:\n",
      "SVM: ['Database Developer']\n",
      "Random Forest: ['Database Developer']\n",
      "Decision Tree: ['Applications Developer']\n",
      "\n",
      "Predictions for Test Case 4:\n",
      "SVM: ['Database Developer']\n",
      "Random Forest: ['Database Developer']\n",
      "Decision Tree: ['CRM Technical Developer']\n",
      "\n",
      "Predictions for Test Case 5:\n",
      "SVM: ['Database Developer']\n",
      "Random Forest: ['Applications Developer']\n",
      "Decision Tree: ['Systems Security Administrator']\n",
      "\n",
      "Predictions for Test Case 6:\n",
      "SVM: ['Network Security Engineer']\n",
      "Random Forest: ['Database Developer']\n",
      "Decision Tree: ['Software Quality Assurance (QA) / Testing']\n",
      "\n",
      "Predictions for Test Case 7:\n",
      "SVM: ['Network Security Engineer']\n",
      "Random Forest: ['Database Developer']\n",
      "Decision Tree: ['Applications Developer']\n",
      "\n",
      "Predictions for Test Case 8:\n",
      "SVM: ['Network Security Engineer']\n",
      "Random Forest: ['Database Developer']\n",
      "Decision Tree: ['CRM Technical Developer']\n",
      "\n",
      "Predictions for Test Case 9:\n",
      "SVM: ['Network Security Engineer']\n",
      "Random Forest: ['Applications Developer']\n",
      "Decision Tree: ['CRM Technical Developer']\n"
     ]
    }
   ],
   "source": [
    "# Make predictions using the trained models for each test case\n",
    "print(\"Predictions for Test Case 1:\")\n",
    "print(\"SVM:\", svm.predict(test_df_1))\n",
    "print(\"Random Forest:\", rf.predict(test_df_1))\n",
    "print(\"Decision Tree:\", dtree.predict(test_df_1))\n",
    "\n",
    "print(\"\\nPredictions for Test Case 2:\")\n",
    "print(\"SVM:\", svm.predict(test_df_2))\n",
    "print(\"Random Forest:\", rf.predict(test_df_2))\n",
    "print(\"Decision Tree:\", dtree.predict(test_df_2))\n",
    "\n",
    "print(\"\\nPredictions for Test Case 3:\")\n",
    "print(\"SVM:\", svm.predict(test_df_3))\n",
    "print(\"Random Forest:\", rf.predict(test_df_3))\n",
    "print(\"Decision Tree:\", dtree.predict(test_df_3))\n",
    "\n",
    "print(\"\\nPredictions for Test Case 4:\")\n",
    "print(\"SVM:\", svm.predict(test_df_4))\n",
    "print(\"Random Forest:\", rf.predict(test_df_4))\n",
    "print(\"Decision Tree:\", dtree.predict(test_df_4))\n",
    "\n",
    "print(\"\\nPredictions for Test Case 5:\")\n",
    "print(\"SVM:\", svm.predict(test_df_5))\n",
    "print(\"Random Forest:\", rf.predict(test_df_5))\n",
    "print(\"Decision Tree:\", dtree.predict(test_df_5))\n",
    "\n",
    "print(\"\\nPredictions for Test Case 6:\")\n",
    "print(\"SVM:\", svm.predict(test_df_6))\n",
    "print(\"Random Forest:\", rf.predict(test_df_6))\n",
    "print(\"Decision Tree:\", dtree.predict(test_df_6))\n",
    "\n",
    "print(\"\\nPredictions for Test Case 7:\")\n",
    "print(\"SVM:\", svm.predict(test_df_7))\n",
    "print(\"Random Forest:\", rf.predict(test_df_7))\n",
    "print(\"Decision Tree:\", dtree.predict(test_df_7))\n",
    "\n",
    "print(\"\\nPredictions for Test Case 8:\")\n",
    "print(\"SVM:\", svm.predict(test_df_8))\n",
    "print(\"Random Forest:\", rf.predict(test_df_8))\n",
    "print(\"Decision Tree:\", dtree.predict(test_df_8))\n",
    "\n",
    "print(\"\\nPredictions for Test Case 9:\")\n",
    "print(\"SVM:\", svm.predict(test_df_9))\n",
    "print(\"Random Forest:\", rf.predict(test_df_9))\n",
    "print(\"Decision Tree:\", dtree.predict(test_df_9))\n",
    "\n"
   ]
  },
  {
   "cell_type": "code",
   "execution_count": null,
   "id": "b3326a8f-ae6c-4da6-9f2e-795438c01a83",
   "metadata": {
    "id": "b3326a8f-ae6c-4da6-9f2e-795438c01a83"
   },
   "outputs": [],
   "source": []
  },
  {
   "cell_type": "code",
   "execution_count": null,
   "id": "640d3cb0-29c8-4013-897b-805e343d0de6",
   "metadata": {},
   "outputs": [],
   "source": []
  },
  {
   "cell_type": "code",
   "execution_count": null,
   "id": "017da42a-e14c-4edb-88d7-b50efe4d9624",
   "metadata": {},
   "outputs": [],
   "source": []
  },
  {
   "cell_type": "code",
   "execution_count": null,
   "id": "0c66f8d7-e305-43e8-adbf-cc673ee3d3af",
   "metadata": {},
   "outputs": [],
   "source": []
  },
  {
   "cell_type": "code",
   "execution_count": null,
   "id": "10328b43-1693-4271-b63c-c8317d30b5e0",
   "metadata": {},
   "outputs": [],
   "source": []
  },
  {
   "cell_type": "code",
   "execution_count": null,
   "id": "8648cb3c-5664-421a-94fd-c7f516dcf77b",
   "metadata": {},
   "outputs": [],
   "source": []
  }
 ],
 "metadata": {
  "colab": {
   "provenance": []
  },
  "kernelspec": {
   "display_name": "Python 3 (ipykernel)",
   "language": "python",
   "name": "python3"
  },
  "language_info": {
   "codemirror_mode": {
    "name": "ipython",
    "version": 3
   },
   "file_extension": ".py",
   "mimetype": "text/x-python",
   "name": "python",
   "nbconvert_exporter": "python",
   "pygments_lexer": "ipython3",
   "version": "3.11.4"
  }
 },
 "nbformat": 4,
 "nbformat_minor": 5
}
